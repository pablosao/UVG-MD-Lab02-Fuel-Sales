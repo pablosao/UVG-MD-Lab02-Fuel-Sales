{
 "cells": [
  {
   "cell_type": "markdown",
   "metadata": {},
   "source": [
    "# Parte 1"
   ]
  },
  {
   "cell_type": "markdown",
   "metadata": {},
   "source": [
    "Elabore una gráfica de barras comparativa de volúmenes totales por estación para\n",
    "determinar cuáles venden más y cuáles venden menos."
   ]
  },
  {
   "cell_type": "code",
   "execution_count": 1,
   "metadata": {},
   "outputs": [
    {
     "name": "stdout",
     "output_type": "stream",
     "text": [
      "Requirement already satisfied: plotly in f:\\python3\\lib\\site-packages (4.2.1)\n",
      "Requirement already satisfied: six in f:\\python3\\lib\\site-packages (from plotly) (1.12.0)\n",
      "Requirement already satisfied: retrying>=1.3.3 in f:\\python3\\lib\\site-packages (from plotly) (1.3.3)\n"
     ]
    }
   ],
   "source": [
    "!pip install plotly"
   ]
  },
  {
   "cell_type": "code",
   "execution_count": 2,
   "metadata": {},
   "outputs": [],
   "source": [
    "import csv\n",
    "import plotly.graph_objects as go"
   ]
  },
  {
   "cell_type": "code",
   "execution_count": 3,
   "metadata": {},
   "outputs": [],
   "source": [
    "estaciones = {}\n",
    "listaNombres = []\n",
    "listaRegular = []\n",
    "listaPremium = []\n",
    "listaDiesel = []"
   ]
  },
  {
   "cell_type": "code",
   "execution_count": 4,
   "metadata": {},
   "outputs": [],
   "source": [
    "#leer el documento de excel y procesar informacion\n",
    "with open('FuelSalesDataSample.csv', 'r') as csvfile:\n",
    "    data = csv.reader(csvfile, delimiter=',', quotechar='|')\n",
    "    \n",
    "    for row in data:\n",
    "        if row[0] != 'Date':\n",
    "            if row[4] not in estaciones:\n",
    "                \n",
    "                estaciones[row[4]] = [row[4], [0,0,0]]\n",
    "                \n",
    "            elif row[5] == 'REGULAR':\n",
    "                totalRegular = estaciones[row[4]][1][0]\n",
    "                estaciones[row[4]][1][0] = totalRegular + float(row[8])\n",
    "                \n",
    "                \n",
    "            elif row[5] == 'PREMIUM':\n",
    "                totalRegular = estaciones[row[4]][1][1]\n",
    "                estaciones[row[4]][1][1] = totalRegular + float(row[8])\n",
    "                \n",
    "                \n",
    "            elif row[5] == 'DIESEL':\n",
    "                totalRegular = estaciones[row[4]][1][2]\n",
    "                estaciones[row[4]][1][2] = totalRegular + float(row[8])"
   ]
  },
  {
   "cell_type": "code",
   "execution_count": 5,
   "metadata": {},
   "outputs": [
    {
     "name": "stdout",
     "output_type": "stream",
     "text": [
      "['Falls Church', [56794.0700000001, 143.17999999999995, 15601.290000000003]]\n",
      "['Lexington Drive', [35500.12999999998, 993.8900000000002, 3005.35]]\n",
      "['Oakland Road', [57889.74000000003, 5021.45, 5583.8799999999965]]\n",
      "['Cranberry Bridge', [16798.930000000008, 847.1, 1799.5499999999995]]\n",
      "['Broadway Place', [8458.62000000001, 35.28, 1680.2999999999984]]\n",
      "['Fashion Square', [36300.11999999998, 648.2300000000001, 0]]\n",
      "['Texas Market', [46139.24000000006, 1835.9700000000003, 9168.270000000008]]\n",
      "['Federal Triangle', [34623.37999999997, 965.3299999999996, 1572.5900000000006]]\n",
      "['Crown Hill', [36568.26000000002, 460.7899999999998, 20684.180000000008]]\n",
      "['Diamond Road', [21282.570000000043, 1161.5600000000002, 1134.1499999999999]]\n",
      "['Reagan Street', [15430.199999999979, 0, 3728.849999999996]]\n",
      "['Quincy Drive', [22470.43000000003, 0, 2928.080000000001]]\n",
      "['Melrose Place', [19025.979999999992, 250.34999999999997, 496.2500000000001]]\n",
      "['Highway Plaza', [29060.51000000004, 409.2400000000001, 8254.72]]\n",
      "['Norway Market', [32208.130000000085, 156.38, 3703.2599999999993]]\n",
      "['Marshall Drive', [44988.63999999998, 247.13000000000002, 15126.779999999988]]\n",
      "['American Plaza', [16555.160000000018, 239.07000000000005, 7026.499999999997]]\n",
      "['Sycamore Avenue', [33343.529999999926, 798.1299999999997, 20411.05999999998]]\n",
      "['Grand Manor Court', [28914.420000000067, 1893.4999999999993, 8150.139999999993]]\n",
      "['Veteran Square', [20252.60999999997, 614.78, 2069.76]]\n",
      "['Industrial Station', [7587.050000000022, 486.4900000000001, 5364.840000000003]]\n",
      "['Lester Avenue', [24686.07999999996, 399.34000000000003, 11246.38000000001]]\n",
      "['Union Square', [19020.280000000017, 218.7299999999999, 7892.269999999992]]\n",
      "['Highland View', [39291.95999999995, 144.94, 10277.730000000023]]\n",
      "['Red Oak', [68271.93000000007, 422.38999999999976, 15941.210000000014]]\n",
      "['Brasilia Park', [13516.100000000019, 362.7699999999999, 5579.299999999998]]\n",
      "['Pine Valley', [16182.450000000017, 0, 4319.360000000003]]\n",
      "['Legacy Way', [19882.46000000001, 790.92, 51189.39999999995]]\n",
      "['Nevada Park', [26672.530000000002, 79.88000000000001, 18741.739999999998]]\n",
      "['Kennedy Station', [17942.869999999988, 0, 4189.629999999999]]\n",
      "['Liberty Square', [21404.029999999988, 1861.8499999999997, 1016.4599999999996]]\n",
      "['Brussels Avenue', [8476.60999999998, 12.500000000000002, 2230.549999999997]]\n"
     ]
    }
   ],
   "source": [
    "# suma de volumenes Regular,Premium y Diesel de las estaciones guardados en un diccionario\n",
    "for x in estaciones:\n",
    "    print(estaciones[x])"
   ]
  },
  {
   "cell_type": "code",
   "execution_count": 6,
   "metadata": {},
   "outputs": [
    {
     "name": "stdout",
     "output_type": "stream",
     "text": [
      "[]\n",
      "[]\n",
      "[]\n",
      "[]\n"
     ]
    }
   ],
   "source": [
    "print(listaNombres)\n",
    "print(listaRegular)\n",
    "print(listaPremium)\n",
    "print(listaDiesel)"
   ]
  },
  {
   "cell_type": "code",
   "execution_count": 7,
   "metadata": {},
   "outputs": [],
   "source": [
    "for x in estaciones:  \n",
    "    listaNombres.append(estaciones[x][0])\n",
    "    listaRegular.append(estaciones[x][1][0])\n",
    "    listaPremium.append(estaciones[x][1][1])\n",
    "    listaDiesel.append(estaciones[x][1][2])"
   ]
  },
  {
   "cell_type": "code",
   "execution_count": 8,
   "metadata": {},
   "outputs": [
    {
     "name": "stdout",
     "output_type": "stream",
     "text": [
      "['Falls Church', 'Lexington Drive', 'Oakland Road', 'Cranberry Bridge', 'Broadway Place', 'Fashion Square', 'Texas Market', 'Federal Triangle', 'Crown Hill', 'Diamond Road', 'Reagan Street', 'Quincy Drive', 'Melrose Place', 'Highway Plaza', 'Norway Market', 'Marshall Drive', 'American Plaza', 'Sycamore Avenue', 'Grand Manor Court', 'Veteran Square', 'Industrial Station', 'Lester Avenue', 'Union Square', 'Highland View', 'Red Oak', 'Brasilia Park', 'Pine Valley', 'Legacy Way', 'Nevada Park', 'Kennedy Station', 'Liberty Square', 'Brussels Avenue']\n"
     ]
    }
   ],
   "source": [
    "print(listaNombres)"
   ]
  },
  {
   "cell_type": "code",
   "execution_count": 9,
   "metadata": {},
   "outputs": [
    {
     "name": "stdout",
     "output_type": "stream",
     "text": [
      "[56794.0700000001, 35500.12999999998, 57889.74000000003, 16798.930000000008, 8458.62000000001, 36300.11999999998, 46139.24000000006, 34623.37999999997, 36568.26000000002, 21282.570000000043, 15430.199999999979, 22470.43000000003, 19025.979999999992, 29060.51000000004, 32208.130000000085, 44988.63999999998, 16555.160000000018, 33343.529999999926, 28914.420000000067, 20252.60999999997, 7587.050000000022, 24686.07999999996, 19020.280000000017, 39291.95999999995, 68271.93000000007, 13516.100000000019, 16182.450000000017, 19882.46000000001, 26672.530000000002, 17942.869999999988, 21404.029999999988, 8476.60999999998]\n"
     ]
    }
   ],
   "source": [
    "print(listaRegular)"
   ]
  },
  {
   "cell_type": "code",
   "execution_count": 10,
   "metadata": {},
   "outputs": [
    {
     "name": "stdout",
     "output_type": "stream",
     "text": [
      "[143.17999999999995, 993.8900000000002, 5021.45, 847.1, 35.28, 648.2300000000001, 1835.9700000000003, 965.3299999999996, 460.7899999999998, 1161.5600000000002, 0, 0, 250.34999999999997, 409.2400000000001, 156.38, 247.13000000000002, 239.07000000000005, 798.1299999999997, 1893.4999999999993, 614.78, 486.4900000000001, 399.34000000000003, 218.7299999999999, 144.94, 422.38999999999976, 362.7699999999999, 0, 790.92, 79.88000000000001, 0, 1861.8499999999997, 12.500000000000002]\n"
     ]
    }
   ],
   "source": [
    "print(listaPremium)"
   ]
  },
  {
   "cell_type": "code",
   "execution_count": 11,
   "metadata": {},
   "outputs": [
    {
     "name": "stdout",
     "output_type": "stream",
     "text": [
      "[15601.290000000003, 3005.35, 5583.8799999999965, 1799.5499999999995, 1680.2999999999984, 0, 9168.270000000008, 1572.5900000000006, 20684.180000000008, 1134.1499999999999, 3728.849999999996, 2928.080000000001, 496.2500000000001, 8254.72, 3703.2599999999993, 15126.779999999988, 7026.499999999997, 20411.05999999998, 8150.139999999993, 2069.76, 5364.840000000003, 11246.38000000001, 7892.269999999992, 10277.730000000023, 15941.210000000014, 5579.299999999998, 4319.360000000003, 51189.39999999995, 18741.739999999998, 4189.629999999999, 1016.4599999999996, 2230.549999999997]\n"
     ]
    }
   ],
   "source": [
    "print(listaDiesel)"
   ]
  },
  {
   "cell_type": "markdown",
   "metadata": {},
   "source": [
    " "
   ]
  },
  {
   "cell_type": "markdown",
   "metadata": {},
   "source": [
    "## Volumen Total de gasolina vendido por estación separada por grado de gasolina"
   ]
  },
  {
   "cell_type": "code",
   "execution_count": 13,
   "metadata": {},
   "outputs": [
    {
     "data": {
      "application/vnd.plotly.v1+json": {
       "config": {
        "plotlyServerURL": "https://plot.ly"
       },
       "data": [
        {
         "name": "Gasolina Regular",
         "type": "bar",
         "x": [
          "Falls Church",
          "Lexington Drive",
          "Oakland Road",
          "Cranberry Bridge",
          "Broadway Place",
          "Fashion Square",
          "Texas Market",
          "Federal Triangle",
          "Crown Hill",
          "Diamond Road",
          "Reagan Street",
          "Quincy Drive",
          "Melrose Place",
          "Highway Plaza",
          "Norway Market",
          "Marshall Drive",
          "American Plaza",
          "Sycamore Avenue",
          "Grand Manor Court",
          "Veteran Square",
          "Industrial Station",
          "Lester Avenue",
          "Union Square",
          "Highland View",
          "Red Oak",
          "Brasilia Park",
          "Pine Valley",
          "Legacy Way",
          "Nevada Park",
          "Kennedy Station",
          "Liberty Square",
          "Brussels Avenue"
         ],
         "y": [
          56794.0700000001,
          35500.12999999998,
          57889.74000000003,
          16798.930000000008,
          8458.62000000001,
          36300.11999999998,
          46139.24000000006,
          34623.37999999997,
          36568.26000000002,
          21282.570000000043,
          15430.199999999979,
          22470.43000000003,
          19025.979999999992,
          29060.51000000004,
          32208.130000000085,
          44988.63999999998,
          16555.160000000018,
          33343.529999999926,
          28914.420000000067,
          20252.60999999997,
          7587.050000000022,
          24686.07999999996,
          19020.280000000017,
          39291.95999999995,
          68271.93000000007,
          13516.100000000019,
          16182.450000000017,
          19882.46000000001,
          26672.530000000002,
          17942.869999999988,
          21404.029999999988,
          8476.60999999998
         ]
        },
        {
         "name": "Gasolina Premium",
         "type": "bar",
         "x": [
          "Falls Church",
          "Lexington Drive",
          "Oakland Road",
          "Cranberry Bridge",
          "Broadway Place",
          "Fashion Square",
          "Texas Market",
          "Federal Triangle",
          "Crown Hill",
          "Diamond Road",
          "Reagan Street",
          "Quincy Drive",
          "Melrose Place",
          "Highway Plaza",
          "Norway Market",
          "Marshall Drive",
          "American Plaza",
          "Sycamore Avenue",
          "Grand Manor Court",
          "Veteran Square",
          "Industrial Station",
          "Lester Avenue",
          "Union Square",
          "Highland View",
          "Red Oak",
          "Brasilia Park",
          "Pine Valley",
          "Legacy Way",
          "Nevada Park",
          "Kennedy Station",
          "Liberty Square",
          "Brussels Avenue"
         ],
         "y": [
          143.17999999999995,
          993.8900000000002,
          5021.45,
          847.1,
          35.28,
          648.2300000000001,
          1835.9700000000003,
          965.3299999999996,
          460.7899999999998,
          1161.5600000000002,
          0,
          0,
          250.34999999999997,
          409.2400000000001,
          156.38,
          247.13000000000002,
          239.07000000000005,
          798.1299999999997,
          1893.4999999999993,
          614.78,
          486.4900000000001,
          399.34000000000003,
          218.7299999999999,
          144.94,
          422.38999999999976,
          362.7699999999999,
          0,
          790.92,
          79.88000000000001,
          0,
          1861.8499999999997,
          12.500000000000002
         ]
        },
        {
         "name": "Diesel",
         "type": "bar",
         "x": [
          "Falls Church",
          "Lexington Drive",
          "Oakland Road",
          "Cranberry Bridge",
          "Broadway Place",
          "Fashion Square",
          "Texas Market",
          "Federal Triangle",
          "Crown Hill",
          "Diamond Road",
          "Reagan Street",
          "Quincy Drive",
          "Melrose Place",
          "Highway Plaza",
          "Norway Market",
          "Marshall Drive",
          "American Plaza",
          "Sycamore Avenue",
          "Grand Manor Court",
          "Veteran Square",
          "Industrial Station",
          "Lester Avenue",
          "Union Square",
          "Highland View",
          "Red Oak",
          "Brasilia Park",
          "Pine Valley",
          "Legacy Way",
          "Nevada Park",
          "Kennedy Station",
          "Liberty Square",
          "Brussels Avenue"
         ],
         "y": [
          15601.290000000003,
          3005.35,
          5583.8799999999965,
          1799.5499999999995,
          1680.2999999999984,
          0,
          9168.270000000008,
          1572.5900000000006,
          20684.180000000008,
          1134.1499999999999,
          3728.849999999996,
          2928.080000000001,
          496.2500000000001,
          8254.72,
          3703.2599999999993,
          15126.779999999988,
          7026.499999999997,
          20411.05999999998,
          8150.139999999993,
          2069.76,
          5364.840000000003,
          11246.38000000001,
          7892.269999999992,
          10277.730000000023,
          15941.210000000014,
          5579.299999999998,
          4319.360000000003,
          51189.39999999995,
          18741.739999999998,
          4189.629999999999,
          1016.4599999999996,
          2230.549999999997
         ]
        }
       ],
       "layout": {
        "barmode": "stack",
        "template": {
         "data": {
          "bar": [
           {
            "error_x": {
             "color": "#2a3f5f"
            },
            "error_y": {
             "color": "#2a3f5f"
            },
            "marker": {
             "line": {
              "color": "#E5ECF6",
              "width": 0.5
             }
            },
            "type": "bar"
           }
          ],
          "barpolar": [
           {
            "marker": {
             "line": {
              "color": "#E5ECF6",
              "width": 0.5
             }
            },
            "type": "barpolar"
           }
          ],
          "carpet": [
           {
            "aaxis": {
             "endlinecolor": "#2a3f5f",
             "gridcolor": "white",
             "linecolor": "white",
             "minorgridcolor": "white",
             "startlinecolor": "#2a3f5f"
            },
            "baxis": {
             "endlinecolor": "#2a3f5f",
             "gridcolor": "white",
             "linecolor": "white",
             "minorgridcolor": "white",
             "startlinecolor": "#2a3f5f"
            },
            "type": "carpet"
           }
          ],
          "choropleth": [
           {
            "colorbar": {
             "outlinewidth": 0,
             "ticks": ""
            },
            "type": "choropleth"
           }
          ],
          "contour": [
           {
            "colorbar": {
             "outlinewidth": 0,
             "ticks": ""
            },
            "colorscale": [
             [
              0,
              "#0d0887"
             ],
             [
              0.1111111111111111,
              "#46039f"
             ],
             [
              0.2222222222222222,
              "#7201a8"
             ],
             [
              0.3333333333333333,
              "#9c179e"
             ],
             [
              0.4444444444444444,
              "#bd3786"
             ],
             [
              0.5555555555555556,
              "#d8576b"
             ],
             [
              0.6666666666666666,
              "#ed7953"
             ],
             [
              0.7777777777777778,
              "#fb9f3a"
             ],
             [
              0.8888888888888888,
              "#fdca26"
             ],
             [
              1,
              "#f0f921"
             ]
            ],
            "type": "contour"
           }
          ],
          "contourcarpet": [
           {
            "colorbar": {
             "outlinewidth": 0,
             "ticks": ""
            },
            "type": "contourcarpet"
           }
          ],
          "heatmap": [
           {
            "colorbar": {
             "outlinewidth": 0,
             "ticks": ""
            },
            "colorscale": [
             [
              0,
              "#0d0887"
             ],
             [
              0.1111111111111111,
              "#46039f"
             ],
             [
              0.2222222222222222,
              "#7201a8"
             ],
             [
              0.3333333333333333,
              "#9c179e"
             ],
             [
              0.4444444444444444,
              "#bd3786"
             ],
             [
              0.5555555555555556,
              "#d8576b"
             ],
             [
              0.6666666666666666,
              "#ed7953"
             ],
             [
              0.7777777777777778,
              "#fb9f3a"
             ],
             [
              0.8888888888888888,
              "#fdca26"
             ],
             [
              1,
              "#f0f921"
             ]
            ],
            "type": "heatmap"
           }
          ],
          "heatmapgl": [
           {
            "colorbar": {
             "outlinewidth": 0,
             "ticks": ""
            },
            "colorscale": [
             [
              0,
              "#0d0887"
             ],
             [
              0.1111111111111111,
              "#46039f"
             ],
             [
              0.2222222222222222,
              "#7201a8"
             ],
             [
              0.3333333333333333,
              "#9c179e"
             ],
             [
              0.4444444444444444,
              "#bd3786"
             ],
             [
              0.5555555555555556,
              "#d8576b"
             ],
             [
              0.6666666666666666,
              "#ed7953"
             ],
             [
              0.7777777777777778,
              "#fb9f3a"
             ],
             [
              0.8888888888888888,
              "#fdca26"
             ],
             [
              1,
              "#f0f921"
             ]
            ],
            "type": "heatmapgl"
           }
          ],
          "histogram": [
           {
            "marker": {
             "colorbar": {
              "outlinewidth": 0,
              "ticks": ""
             }
            },
            "type": "histogram"
           }
          ],
          "histogram2d": [
           {
            "colorbar": {
             "outlinewidth": 0,
             "ticks": ""
            },
            "colorscale": [
             [
              0,
              "#0d0887"
             ],
             [
              0.1111111111111111,
              "#46039f"
             ],
             [
              0.2222222222222222,
              "#7201a8"
             ],
             [
              0.3333333333333333,
              "#9c179e"
             ],
             [
              0.4444444444444444,
              "#bd3786"
             ],
             [
              0.5555555555555556,
              "#d8576b"
             ],
             [
              0.6666666666666666,
              "#ed7953"
             ],
             [
              0.7777777777777778,
              "#fb9f3a"
             ],
             [
              0.8888888888888888,
              "#fdca26"
             ],
             [
              1,
              "#f0f921"
             ]
            ],
            "type": "histogram2d"
           }
          ],
          "histogram2dcontour": [
           {
            "colorbar": {
             "outlinewidth": 0,
             "ticks": ""
            },
            "colorscale": [
             [
              0,
              "#0d0887"
             ],
             [
              0.1111111111111111,
              "#46039f"
             ],
             [
              0.2222222222222222,
              "#7201a8"
             ],
             [
              0.3333333333333333,
              "#9c179e"
             ],
             [
              0.4444444444444444,
              "#bd3786"
             ],
             [
              0.5555555555555556,
              "#d8576b"
             ],
             [
              0.6666666666666666,
              "#ed7953"
             ],
             [
              0.7777777777777778,
              "#fb9f3a"
             ],
             [
              0.8888888888888888,
              "#fdca26"
             ],
             [
              1,
              "#f0f921"
             ]
            ],
            "type": "histogram2dcontour"
           }
          ],
          "mesh3d": [
           {
            "colorbar": {
             "outlinewidth": 0,
             "ticks": ""
            },
            "type": "mesh3d"
           }
          ],
          "parcoords": [
           {
            "line": {
             "colorbar": {
              "outlinewidth": 0,
              "ticks": ""
             }
            },
            "type": "parcoords"
           }
          ],
          "scatter": [
           {
            "marker": {
             "colorbar": {
              "outlinewidth": 0,
              "ticks": ""
             }
            },
            "type": "scatter"
           }
          ],
          "scatter3d": [
           {
            "line": {
             "colorbar": {
              "outlinewidth": 0,
              "ticks": ""
             }
            },
            "marker": {
             "colorbar": {
              "outlinewidth": 0,
              "ticks": ""
             }
            },
            "type": "scatter3d"
           }
          ],
          "scattercarpet": [
           {
            "marker": {
             "colorbar": {
              "outlinewidth": 0,
              "ticks": ""
             }
            },
            "type": "scattercarpet"
           }
          ],
          "scattergeo": [
           {
            "marker": {
             "colorbar": {
              "outlinewidth": 0,
              "ticks": ""
             }
            },
            "type": "scattergeo"
           }
          ],
          "scattergl": [
           {
            "marker": {
             "colorbar": {
              "outlinewidth": 0,
              "ticks": ""
             }
            },
            "type": "scattergl"
           }
          ],
          "scattermapbox": [
           {
            "marker": {
             "colorbar": {
              "outlinewidth": 0,
              "ticks": ""
             }
            },
            "type": "scattermapbox"
           }
          ],
          "scatterpolar": [
           {
            "marker": {
             "colorbar": {
              "outlinewidth": 0,
              "ticks": ""
             }
            },
            "type": "scatterpolar"
           }
          ],
          "scatterpolargl": [
           {
            "marker": {
             "colorbar": {
              "outlinewidth": 0,
              "ticks": ""
             }
            },
            "type": "scatterpolargl"
           }
          ],
          "scatterternary": [
           {
            "marker": {
             "colorbar": {
              "outlinewidth": 0,
              "ticks": ""
             }
            },
            "type": "scatterternary"
           }
          ],
          "surface": [
           {
            "colorbar": {
             "outlinewidth": 0,
             "ticks": ""
            },
            "colorscale": [
             [
              0,
              "#0d0887"
             ],
             [
              0.1111111111111111,
              "#46039f"
             ],
             [
              0.2222222222222222,
              "#7201a8"
             ],
             [
              0.3333333333333333,
              "#9c179e"
             ],
             [
              0.4444444444444444,
              "#bd3786"
             ],
             [
              0.5555555555555556,
              "#d8576b"
             ],
             [
              0.6666666666666666,
              "#ed7953"
             ],
             [
              0.7777777777777778,
              "#fb9f3a"
             ],
             [
              0.8888888888888888,
              "#fdca26"
             ],
             [
              1,
              "#f0f921"
             ]
            ],
            "type": "surface"
           }
          ],
          "table": [
           {
            "cells": {
             "fill": {
              "color": "#EBF0F8"
             },
             "line": {
              "color": "white"
             }
            },
            "header": {
             "fill": {
              "color": "#C8D4E3"
             },
             "line": {
              "color": "white"
             }
            },
            "type": "table"
           }
          ]
         },
         "layout": {
          "annotationdefaults": {
           "arrowcolor": "#2a3f5f",
           "arrowhead": 0,
           "arrowwidth": 1
          },
          "colorscale": {
           "diverging": [
            [
             0,
             "#8e0152"
            ],
            [
             0.1,
             "#c51b7d"
            ],
            [
             0.2,
             "#de77ae"
            ],
            [
             0.3,
             "#f1b6da"
            ],
            [
             0.4,
             "#fde0ef"
            ],
            [
             0.5,
             "#f7f7f7"
            ],
            [
             0.6,
             "#e6f5d0"
            ],
            [
             0.7,
             "#b8e186"
            ],
            [
             0.8,
             "#7fbc41"
            ],
            [
             0.9,
             "#4d9221"
            ],
            [
             1,
             "#276419"
            ]
           ],
           "sequential": [
            [
             0,
             "#0d0887"
            ],
            [
             0.1111111111111111,
             "#46039f"
            ],
            [
             0.2222222222222222,
             "#7201a8"
            ],
            [
             0.3333333333333333,
             "#9c179e"
            ],
            [
             0.4444444444444444,
             "#bd3786"
            ],
            [
             0.5555555555555556,
             "#d8576b"
            ],
            [
             0.6666666666666666,
             "#ed7953"
            ],
            [
             0.7777777777777778,
             "#fb9f3a"
            ],
            [
             0.8888888888888888,
             "#fdca26"
            ],
            [
             1,
             "#f0f921"
            ]
           ],
           "sequentialminus": [
            [
             0,
             "#0d0887"
            ],
            [
             0.1111111111111111,
             "#46039f"
            ],
            [
             0.2222222222222222,
             "#7201a8"
            ],
            [
             0.3333333333333333,
             "#9c179e"
            ],
            [
             0.4444444444444444,
             "#bd3786"
            ],
            [
             0.5555555555555556,
             "#d8576b"
            ],
            [
             0.6666666666666666,
             "#ed7953"
            ],
            [
             0.7777777777777778,
             "#fb9f3a"
            ],
            [
             0.8888888888888888,
             "#fdca26"
            ],
            [
             1,
             "#f0f921"
            ]
           ]
          },
          "colorway": [
           "#636efa",
           "#EF553B",
           "#00cc96",
           "#ab63fa",
           "#FFA15A",
           "#19d3f3",
           "#FF6692",
           "#B6E880",
           "#FF97FF",
           "#FECB52"
          ],
          "font": {
           "color": "#2a3f5f"
          },
          "geo": {
           "bgcolor": "white",
           "lakecolor": "white",
           "landcolor": "#E5ECF6",
           "showlakes": true,
           "showland": true,
           "subunitcolor": "white"
          },
          "hoverlabel": {
           "align": "left"
          },
          "hovermode": "closest",
          "mapbox": {
           "style": "light"
          },
          "paper_bgcolor": "white",
          "plot_bgcolor": "#E5ECF6",
          "polar": {
           "angularaxis": {
            "gridcolor": "white",
            "linecolor": "white",
            "ticks": ""
           },
           "bgcolor": "#E5ECF6",
           "radialaxis": {
            "gridcolor": "white",
            "linecolor": "white",
            "ticks": ""
           }
          },
          "scene": {
           "xaxis": {
            "backgroundcolor": "#E5ECF6",
            "gridcolor": "white",
            "gridwidth": 2,
            "linecolor": "white",
            "showbackground": true,
            "ticks": "",
            "zerolinecolor": "white"
           },
           "yaxis": {
            "backgroundcolor": "#E5ECF6",
            "gridcolor": "white",
            "gridwidth": 2,
            "linecolor": "white",
            "showbackground": true,
            "ticks": "",
            "zerolinecolor": "white"
           },
           "zaxis": {
            "backgroundcolor": "#E5ECF6",
            "gridcolor": "white",
            "gridwidth": 2,
            "linecolor": "white",
            "showbackground": true,
            "ticks": "",
            "zerolinecolor": "white"
           }
          },
          "shapedefaults": {
           "line": {
            "color": "#2a3f5f"
           }
          },
          "ternary": {
           "aaxis": {
            "gridcolor": "white",
            "linecolor": "white",
            "ticks": ""
           },
           "baxis": {
            "gridcolor": "white",
            "linecolor": "white",
            "ticks": ""
           },
           "bgcolor": "#E5ECF6",
           "caxis": {
            "gridcolor": "white",
            "linecolor": "white",
            "ticks": ""
           }
          },
          "title": {
           "x": 0.05
          },
          "xaxis": {
           "automargin": true,
           "gridcolor": "white",
           "linecolor": "white",
           "ticks": "",
           "zerolinecolor": "white",
           "zerolinewidth": 2
          },
          "yaxis": {
           "automargin": true,
           "gridcolor": "white",
           "linecolor": "white",
           "ticks": "",
           "zerolinecolor": "white",
           "zerolinewidth": 2
          }
         }
        }
       }
      },
      "text/html": [
       "<div>\n",
       "        \n",
       "        \n",
       "            <div id=\"c954afab-de6b-4784-b3d7-9963633a4402\" class=\"plotly-graph-div\" style=\"height:525px; width:100%;\"></div>\n",
       "            <script type=\"text/javascript\">\n",
       "                require([\"plotly\"], function(Plotly) {\n",
       "                    window.PLOTLYENV=window.PLOTLYENV || {};\n",
       "                    \n",
       "                if (document.getElementById(\"c954afab-de6b-4784-b3d7-9963633a4402\")) {\n",
       "                    Plotly.newPlot(\n",
       "                        'c954afab-de6b-4784-b3d7-9963633a4402',\n",
       "                        [{\"name\": \"Gasolina Regular\", \"type\": \"bar\", \"x\": [\"Falls Church\", \"Lexington Drive\", \"Oakland Road\", \"Cranberry Bridge\", \"Broadway Place\", \"Fashion Square\", \"Texas Market\", \"Federal Triangle\", \"Crown Hill\", \"Diamond Road\", \"Reagan Street\", \"Quincy Drive\", \"Melrose Place\", \"Highway Plaza\", \"Norway Market\", \"Marshall Drive\", \"American Plaza\", \"Sycamore Avenue\", \"Grand Manor Court\", \"Veteran Square\", \"Industrial Station\", \"Lester Avenue\", \"Union Square\", \"Highland View\", \"Red Oak\", \"Brasilia Park\", \"Pine Valley\", \"Legacy Way\", \"Nevada Park\", \"Kennedy Station\", \"Liberty Square\", \"Brussels Avenue\"], \"y\": [56794.0700000001, 35500.12999999998, 57889.74000000003, 16798.930000000008, 8458.62000000001, 36300.11999999998, 46139.24000000006, 34623.37999999997, 36568.26000000002, 21282.570000000043, 15430.199999999979, 22470.43000000003, 19025.979999999992, 29060.51000000004, 32208.130000000085, 44988.63999999998, 16555.160000000018, 33343.529999999926, 28914.420000000067, 20252.60999999997, 7587.050000000022, 24686.07999999996, 19020.280000000017, 39291.95999999995, 68271.93000000007, 13516.100000000019, 16182.450000000017, 19882.46000000001, 26672.530000000002, 17942.869999999988, 21404.029999999988, 8476.60999999998]}, {\"name\": \"Gasolina Premium\", \"type\": \"bar\", \"x\": [\"Falls Church\", \"Lexington Drive\", \"Oakland Road\", \"Cranberry Bridge\", \"Broadway Place\", \"Fashion Square\", \"Texas Market\", \"Federal Triangle\", \"Crown Hill\", \"Diamond Road\", \"Reagan Street\", \"Quincy Drive\", \"Melrose Place\", \"Highway Plaza\", \"Norway Market\", \"Marshall Drive\", \"American Plaza\", \"Sycamore Avenue\", \"Grand Manor Court\", \"Veteran Square\", \"Industrial Station\", \"Lester Avenue\", \"Union Square\", \"Highland View\", \"Red Oak\", \"Brasilia Park\", \"Pine Valley\", \"Legacy Way\", \"Nevada Park\", \"Kennedy Station\", \"Liberty Square\", \"Brussels Avenue\"], \"y\": [143.17999999999995, 993.8900000000002, 5021.45, 847.1, 35.28, 648.2300000000001, 1835.9700000000003, 965.3299999999996, 460.7899999999998, 1161.5600000000002, 0, 0, 250.34999999999997, 409.2400000000001, 156.38, 247.13000000000002, 239.07000000000005, 798.1299999999997, 1893.4999999999993, 614.78, 486.4900000000001, 399.34000000000003, 218.7299999999999, 144.94, 422.38999999999976, 362.7699999999999, 0, 790.92, 79.88000000000001, 0, 1861.8499999999997, 12.500000000000002]}, {\"name\": \"Diesel\", \"type\": \"bar\", \"x\": [\"Falls Church\", \"Lexington Drive\", \"Oakland Road\", \"Cranberry Bridge\", \"Broadway Place\", \"Fashion Square\", \"Texas Market\", \"Federal Triangle\", \"Crown Hill\", \"Diamond Road\", \"Reagan Street\", \"Quincy Drive\", \"Melrose Place\", \"Highway Plaza\", \"Norway Market\", \"Marshall Drive\", \"American Plaza\", \"Sycamore Avenue\", \"Grand Manor Court\", \"Veteran Square\", \"Industrial Station\", \"Lester Avenue\", \"Union Square\", \"Highland View\", \"Red Oak\", \"Brasilia Park\", \"Pine Valley\", \"Legacy Way\", \"Nevada Park\", \"Kennedy Station\", \"Liberty Square\", \"Brussels Avenue\"], \"y\": [15601.290000000003, 3005.35, 5583.8799999999965, 1799.5499999999995, 1680.2999999999984, 0, 9168.270000000008, 1572.5900000000006, 20684.180000000008, 1134.1499999999999, 3728.849999999996, 2928.080000000001, 496.2500000000001, 8254.72, 3703.2599999999993, 15126.779999999988, 7026.499999999997, 20411.05999999998, 8150.139999999993, 2069.76, 5364.840000000003, 11246.38000000001, 7892.269999999992, 10277.730000000023, 15941.210000000014, 5579.299999999998, 4319.360000000003, 51189.39999999995, 18741.739999999998, 4189.629999999999, 1016.4599999999996, 2230.549999999997]}],\n",
       "                        {\"barmode\": \"stack\", \"template\": {\"data\": {\"bar\": [{\"error_x\": {\"color\": \"#2a3f5f\"}, \"error_y\": {\"color\": \"#2a3f5f\"}, \"marker\": {\"line\": {\"color\": \"#E5ECF6\", \"width\": 0.5}}, \"type\": \"bar\"}], \"barpolar\": [{\"marker\": {\"line\": {\"color\": \"#E5ECF6\", \"width\": 0.5}}, \"type\": \"barpolar\"}], \"carpet\": [{\"aaxis\": {\"endlinecolor\": \"#2a3f5f\", \"gridcolor\": \"white\", \"linecolor\": \"white\", \"minorgridcolor\": \"white\", \"startlinecolor\": \"#2a3f5f\"}, \"baxis\": {\"endlinecolor\": \"#2a3f5f\", \"gridcolor\": \"white\", \"linecolor\": \"white\", \"minorgridcolor\": \"white\", \"startlinecolor\": \"#2a3f5f\"}, \"type\": \"carpet\"}], \"choropleth\": [{\"colorbar\": {\"outlinewidth\": 0, \"ticks\": \"\"}, \"type\": \"choropleth\"}], \"contour\": [{\"colorbar\": {\"outlinewidth\": 0, \"ticks\": \"\"}, \"colorscale\": [[0.0, \"#0d0887\"], [0.1111111111111111, \"#46039f\"], [0.2222222222222222, \"#7201a8\"], [0.3333333333333333, \"#9c179e\"], [0.4444444444444444, \"#bd3786\"], [0.5555555555555556, \"#d8576b\"], [0.6666666666666666, \"#ed7953\"], [0.7777777777777778, \"#fb9f3a\"], [0.8888888888888888, \"#fdca26\"], [1.0, \"#f0f921\"]], \"type\": \"contour\"}], \"contourcarpet\": [{\"colorbar\": {\"outlinewidth\": 0, \"ticks\": \"\"}, \"type\": \"contourcarpet\"}], \"heatmap\": [{\"colorbar\": {\"outlinewidth\": 0, \"ticks\": \"\"}, \"colorscale\": [[0.0, \"#0d0887\"], [0.1111111111111111, \"#46039f\"], [0.2222222222222222, \"#7201a8\"], [0.3333333333333333, \"#9c179e\"], [0.4444444444444444, \"#bd3786\"], [0.5555555555555556, \"#d8576b\"], [0.6666666666666666, \"#ed7953\"], [0.7777777777777778, \"#fb9f3a\"], [0.8888888888888888, \"#fdca26\"], [1.0, \"#f0f921\"]], \"type\": \"heatmap\"}], \"heatmapgl\": [{\"colorbar\": {\"outlinewidth\": 0, \"ticks\": \"\"}, \"colorscale\": [[0.0, \"#0d0887\"], [0.1111111111111111, \"#46039f\"], [0.2222222222222222, \"#7201a8\"], [0.3333333333333333, \"#9c179e\"], [0.4444444444444444, \"#bd3786\"], [0.5555555555555556, \"#d8576b\"], [0.6666666666666666, \"#ed7953\"], [0.7777777777777778, \"#fb9f3a\"], [0.8888888888888888, \"#fdca26\"], [1.0, \"#f0f921\"]], \"type\": \"heatmapgl\"}], \"histogram\": [{\"marker\": {\"colorbar\": {\"outlinewidth\": 0, \"ticks\": \"\"}}, \"type\": \"histogram\"}], \"histogram2d\": [{\"colorbar\": {\"outlinewidth\": 0, \"ticks\": \"\"}, \"colorscale\": [[0.0, \"#0d0887\"], [0.1111111111111111, \"#46039f\"], [0.2222222222222222, \"#7201a8\"], [0.3333333333333333, \"#9c179e\"], [0.4444444444444444, \"#bd3786\"], [0.5555555555555556, \"#d8576b\"], [0.6666666666666666, \"#ed7953\"], [0.7777777777777778, \"#fb9f3a\"], [0.8888888888888888, \"#fdca26\"], [1.0, \"#f0f921\"]], \"type\": \"histogram2d\"}], \"histogram2dcontour\": [{\"colorbar\": {\"outlinewidth\": 0, \"ticks\": \"\"}, \"colorscale\": [[0.0, \"#0d0887\"], [0.1111111111111111, \"#46039f\"], [0.2222222222222222, \"#7201a8\"], [0.3333333333333333, \"#9c179e\"], [0.4444444444444444, \"#bd3786\"], [0.5555555555555556, \"#d8576b\"], [0.6666666666666666, \"#ed7953\"], [0.7777777777777778, \"#fb9f3a\"], [0.8888888888888888, \"#fdca26\"], [1.0, \"#f0f921\"]], \"type\": \"histogram2dcontour\"}], \"mesh3d\": [{\"colorbar\": {\"outlinewidth\": 0, \"ticks\": \"\"}, \"type\": \"mesh3d\"}], \"parcoords\": [{\"line\": {\"colorbar\": {\"outlinewidth\": 0, \"ticks\": \"\"}}, \"type\": \"parcoords\"}], \"scatter\": [{\"marker\": {\"colorbar\": {\"outlinewidth\": 0, \"ticks\": \"\"}}, \"type\": \"scatter\"}], \"scatter3d\": [{\"line\": {\"colorbar\": {\"outlinewidth\": 0, \"ticks\": \"\"}}, \"marker\": {\"colorbar\": {\"outlinewidth\": 0, \"ticks\": \"\"}}, \"type\": \"scatter3d\"}], \"scattercarpet\": [{\"marker\": {\"colorbar\": {\"outlinewidth\": 0, \"ticks\": \"\"}}, \"type\": \"scattercarpet\"}], \"scattergeo\": [{\"marker\": {\"colorbar\": {\"outlinewidth\": 0, \"ticks\": \"\"}}, \"type\": \"scattergeo\"}], \"scattergl\": [{\"marker\": {\"colorbar\": {\"outlinewidth\": 0, \"ticks\": \"\"}}, \"type\": \"scattergl\"}], \"scattermapbox\": [{\"marker\": {\"colorbar\": {\"outlinewidth\": 0, \"ticks\": \"\"}}, \"type\": \"scattermapbox\"}], \"scatterpolar\": [{\"marker\": {\"colorbar\": {\"outlinewidth\": 0, \"ticks\": \"\"}}, \"type\": \"scatterpolar\"}], \"scatterpolargl\": [{\"marker\": {\"colorbar\": {\"outlinewidth\": 0, \"ticks\": \"\"}}, \"type\": \"scatterpolargl\"}], \"scatterternary\": [{\"marker\": {\"colorbar\": {\"outlinewidth\": 0, \"ticks\": \"\"}}, \"type\": \"scatterternary\"}], \"surface\": [{\"colorbar\": {\"outlinewidth\": 0, \"ticks\": \"\"}, \"colorscale\": [[0.0, \"#0d0887\"], [0.1111111111111111, \"#46039f\"], [0.2222222222222222, \"#7201a8\"], [0.3333333333333333, \"#9c179e\"], [0.4444444444444444, \"#bd3786\"], [0.5555555555555556, \"#d8576b\"], [0.6666666666666666, \"#ed7953\"], [0.7777777777777778, \"#fb9f3a\"], [0.8888888888888888, \"#fdca26\"], [1.0, \"#f0f921\"]], \"type\": \"surface\"}], \"table\": [{\"cells\": {\"fill\": {\"color\": \"#EBF0F8\"}, \"line\": {\"color\": \"white\"}}, \"header\": {\"fill\": {\"color\": \"#C8D4E3\"}, \"line\": {\"color\": \"white\"}}, \"type\": \"table\"}]}, \"layout\": {\"annotationdefaults\": {\"arrowcolor\": \"#2a3f5f\", \"arrowhead\": 0, \"arrowwidth\": 1}, \"colorscale\": {\"diverging\": [[0, \"#8e0152\"], [0.1, \"#c51b7d\"], [0.2, \"#de77ae\"], [0.3, \"#f1b6da\"], [0.4, \"#fde0ef\"], [0.5, \"#f7f7f7\"], [0.6, \"#e6f5d0\"], [0.7, \"#b8e186\"], [0.8, \"#7fbc41\"], [0.9, \"#4d9221\"], [1, \"#276419\"]], \"sequential\": [[0.0, \"#0d0887\"], [0.1111111111111111, \"#46039f\"], [0.2222222222222222, \"#7201a8\"], [0.3333333333333333, \"#9c179e\"], [0.4444444444444444, \"#bd3786\"], [0.5555555555555556, \"#d8576b\"], [0.6666666666666666, \"#ed7953\"], [0.7777777777777778, \"#fb9f3a\"], [0.8888888888888888, \"#fdca26\"], [1.0, \"#f0f921\"]], \"sequentialminus\": [[0.0, \"#0d0887\"], [0.1111111111111111, \"#46039f\"], [0.2222222222222222, \"#7201a8\"], [0.3333333333333333, \"#9c179e\"], [0.4444444444444444, \"#bd3786\"], [0.5555555555555556, \"#d8576b\"], [0.6666666666666666, \"#ed7953\"], [0.7777777777777778, \"#fb9f3a\"], [0.8888888888888888, \"#fdca26\"], [1.0, \"#f0f921\"]]}, \"colorway\": [\"#636efa\", \"#EF553B\", \"#00cc96\", \"#ab63fa\", \"#FFA15A\", \"#19d3f3\", \"#FF6692\", \"#B6E880\", \"#FF97FF\", \"#FECB52\"], \"font\": {\"color\": \"#2a3f5f\"}, \"geo\": {\"bgcolor\": \"white\", \"lakecolor\": \"white\", \"landcolor\": \"#E5ECF6\", \"showlakes\": true, \"showland\": true, \"subunitcolor\": \"white\"}, \"hoverlabel\": {\"align\": \"left\"}, \"hovermode\": \"closest\", \"mapbox\": {\"style\": \"light\"}, \"paper_bgcolor\": \"white\", \"plot_bgcolor\": \"#E5ECF6\", \"polar\": {\"angularaxis\": {\"gridcolor\": \"white\", \"linecolor\": \"white\", \"ticks\": \"\"}, \"bgcolor\": \"#E5ECF6\", \"radialaxis\": {\"gridcolor\": \"white\", \"linecolor\": \"white\", \"ticks\": \"\"}}, \"scene\": {\"xaxis\": {\"backgroundcolor\": \"#E5ECF6\", \"gridcolor\": \"white\", \"gridwidth\": 2, \"linecolor\": \"white\", \"showbackground\": true, \"ticks\": \"\", \"zerolinecolor\": \"white\"}, \"yaxis\": {\"backgroundcolor\": \"#E5ECF6\", \"gridcolor\": \"white\", \"gridwidth\": 2, \"linecolor\": \"white\", \"showbackground\": true, \"ticks\": \"\", \"zerolinecolor\": \"white\"}, \"zaxis\": {\"backgroundcolor\": \"#E5ECF6\", \"gridcolor\": \"white\", \"gridwidth\": 2, \"linecolor\": \"white\", \"showbackground\": true, \"ticks\": \"\", \"zerolinecolor\": \"white\"}}, \"shapedefaults\": {\"line\": {\"color\": \"#2a3f5f\"}}, \"ternary\": {\"aaxis\": {\"gridcolor\": \"white\", \"linecolor\": \"white\", \"ticks\": \"\"}, \"baxis\": {\"gridcolor\": \"white\", \"linecolor\": \"white\", \"ticks\": \"\"}, \"bgcolor\": \"#E5ECF6\", \"caxis\": {\"gridcolor\": \"white\", \"linecolor\": \"white\", \"ticks\": \"\"}}, \"title\": {\"x\": 0.05}, \"xaxis\": {\"automargin\": true, \"gridcolor\": \"white\", \"linecolor\": \"white\", \"ticks\": \"\", \"zerolinecolor\": \"white\", \"zerolinewidth\": 2}, \"yaxis\": {\"automargin\": true, \"gridcolor\": \"white\", \"linecolor\": \"white\", \"ticks\": \"\", \"zerolinecolor\": \"white\", \"zerolinewidth\": 2}}}},\n",
       "                        {\"responsive\": true}\n",
       "                    ).then(function(){\n",
       "                            \n",
       "var gd = document.getElementById('c954afab-de6b-4784-b3d7-9963633a4402');\n",
       "var x = new MutationObserver(function (mutations, observer) {{\n",
       "        var display = window.getComputedStyle(gd).display;\n",
       "        if (!display || display === 'none') {{\n",
       "            console.log([gd, 'removed!']);\n",
       "            Plotly.purge(gd);\n",
       "            observer.disconnect();\n",
       "        }}\n",
       "}});\n",
       "\n",
       "// Listen for the removal of the full notebook cells\n",
       "var notebookContainer = gd.closest('#notebook-container');\n",
       "if (notebookContainer) {{\n",
       "    x.observe(notebookContainer, {childList: true});\n",
       "}}\n",
       "\n",
       "// Listen for the clearing of the current output cell\n",
       "var outputEl = gd.closest('.output');\n",
       "if (outputEl) {{\n",
       "    x.observe(outputEl, {childList: true});\n",
       "}}\n",
       "\n",
       "                        })\n",
       "                };\n",
       "                });\n",
       "            </script>\n",
       "        </div>"
      ]
     },
     "metadata": {},
     "output_type": "display_data"
    }
   ],
   "source": [
    "# grafica utilizando plotly (stack bar)\n",
    "fig = go.Figure(data=[\n",
    "    go.Bar(name='Gasolina Regular', x=listaNombres, y=listaRegular),\n",
    "    go.Bar(name='Gasolina Premium', x=listaNombres, y=listaPremium),\n",
    "    go.Bar(name='Diesel', x=listaNombres, y=listaDiesel)\n",
    "])\n",
    "\n",
    "fig.update_layout(barmode='stack')\n",
    "fig.show()"
   ]
  },
  {
   "cell_type": "markdown",
   "metadata": {},
   "source": [
    "# Parte 6"
   ]
  },
  {
   "cell_type": "markdown",
   "metadata": {},
   "source": [
    "6. Hay algo más que pueda determinar sobre los datos?"
   ]
  },
  {
   "cell_type": "code",
   "execution_count": null,
   "metadata": {},
   "outputs": [],
   "source": []
  },
  {
   "cell_type": "code",
   "execution_count": null,
   "metadata": {},
   "outputs": [],
   "source": []
  }
 ],
 "metadata": {
  "kernelspec": {
   "display_name": "Python 3",
   "language": "python",
   "name": "python3"
  },
  "language_info": {
   "codemirror_mode": {
    "name": "ipython",
    "version": 3
   },
   "file_extension": ".py",
   "mimetype": "text/x-python",
   "name": "python",
   "nbconvert_exporter": "python",
   "pygments_lexer": "ipython3",
   "version": "3.7.3"
  }
 },
 "nbformat": 4,
 "nbformat_minor": 2
}
