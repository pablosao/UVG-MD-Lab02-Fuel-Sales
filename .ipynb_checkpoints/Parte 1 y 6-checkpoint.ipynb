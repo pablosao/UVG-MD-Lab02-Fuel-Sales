{
 "cells": [
  {
   "cell_type": "markdown",
   "metadata": {},
   "source": [
    "# Parte 1"
   ]
  },
  {
   "cell_type": "markdown",
   "metadata": {},
   "source": [
    "Elabore una gráfica de barras comparativa de volúmenes totales por estación para\n",
    "determinar cuáles venden más y cuáles venden menos."
   ]
  },
  {
   "cell_type": "markdown",
   "metadata": {},
   "source": [
    "### Instalamos libterías a utilizar"
   ]
  },
  {
   "cell_type": "code",
   "execution_count": 1,
   "metadata": {},
   "outputs": [
    {
     "name": "stdout",
     "output_type": "stream",
     "text": [
      "Collecting plotly\n",
      "  Using cached plotly-4.5.0-py2.py3-none-any.whl (7.1 MB)\n",
      "Requirement already satisfied (use --upgrade to upgrade): plotly from https://files.pythonhosted.org/packages/06/e1/88762ade699460dc3229c890f9845d16484a40955a590b65052f0958613c/plotly-4.5.0-py2.py3-none-any.whl#sha256=a19ed783bcf094e6207b3699ab261465bf3c7d299403678801de634bf17e2559 in c:\\users\\meche\\appdata\\local\\programs\\python\\python37-32\\lib\\site-packages\n",
      "Requirement already satisfied: retrying>=1.3.3 in c:\\users\\meche\\appdata\\local\\programs\\python\\python37-32\\lib\\site-packages (from plotly) (1.3.3)\n",
      "Requirement already satisfied: six in c:\\users\\meche\\appdata\\roaming\\python\\python37\\site-packages (from plotly) (1.12.0)\n"
     ]
    }
   ],
   "source": [
    "!pip install plotly"
   ]
  },
  {
   "cell_type": "markdown",
   "metadata": {},
   "source": [
    "### Importamos librerías a utilizar"
   ]
  },
  {
   "cell_type": "code",
   "execution_count": 4,
   "metadata": {},
   "outputs": [],
   "source": [
    "import csv\n",
    "import plotly.graph_objects as go"
   ]
  },
  {
   "cell_type": "markdown",
   "metadata": {},
   "source": [
    "### Asignamos las diferentes cadenas\n",
    "\n",
    "Inicialización de variables "
   ]
  },
  {
   "cell_type": "code",
   "execution_count": 3,
   "metadata": {},
   "outputs": [],
   "source": [
    "estaciones = {}\n",
    "listaNombres = []\n",
    "listaRegular = []\n",
    "listaPremium = []\n",
    "listaDiesel = []"
   ]
  },
  {
   "cell_type": "markdown",
   "metadata": {},
   "source": [
    "### Análisis de información \n",
    "\n",
    "Se realiza un análisis de la información que se está manejando. Aquí nos interesa extraer los datos más importantes y asignarlos a las variables establecidas. "
   ]
  },
  {
   "cell_type": "code",
   "execution_count": null,
   "metadata": {},
   "outputs": [],
   "source": [
    "#leer el documento de excel y procesar informacion\n",
    "with open('FuelSalesDataSample.csv', 'r') as csvfile:\n",
    "    data = csv.reader(csvfile, delimiter=',', quotechar='|')\n",
    "    \n",
    "    for row in data:\n",
    "        if row[0] != 'Date':\n",
    "            if row[4] not in estaciones:\n",
    "                \n",
    "                estaciones[row[4]] = [row[4], [0,0,0]]\n",
    "                \n",
    "            elif row[5] == 'REGULAR':\n",
    "                totalRegular = estaciones[row[4]][1][0]\n",
    "                estaciones[row[4]][1][0] = totalRegular + float(row[8])\n",
    "                \n",
    "                \n",
    "            elif row[5] == 'PREMIUM':\n",
    "                totalRegular = estaciones[row[4]][1][1]\n",
    "                estaciones[row[4]][1][1] = totalRegular + float(row[8])\n",
    "                \n",
    "                \n",
    "            elif row[5] == 'DIESEL':\n",
    "                totalRegular = estaciones[row[4]][1][2]\n",
    "                estaciones[row[4]][1][2] = totalRegular + float(row[8])"
   ]
  },
  {
   "cell_type": "markdown",
   "metadata": {},
   "source": [
    "### Interpretación de datos\n",
    "\n",
    "Para poder obtener una información limpia decidimos realizar la suma de los diferentes combustibles para una mejor presentación y trabajar con los promedios"
   ]
  },
  {
   "cell_type": "code",
   "execution_count": null,
   "metadata": {},
   "outputs": [],
   "source": [
    "# suma de volumenes Regular,Premium y Diesel de las estaciones guardados en un diccionario\n",
    "for x in estaciones:\n",
    "    print(estaciones[x])"
   ]
  },
  {
   "cell_type": "code",
   "execution_count": null,
   "metadata": {},
   "outputs": [],
   "source": [
    "for x in estaciones:  \n",
    "    listaNombres.append(estaciones[x][0])\n",
    "    listaRegular.append(estaciones[x][1][0])\n",
    "    listaPremium.append(estaciones[x][1][1])\n",
    "    listaDiesel.append(estaciones[x][1][2])"
   ]
  },
  {
   "cell_type": "code",
   "execution_count": null,
   "metadata": {},
   "outputs": [],
   "source": [
    "print(listaNombres)"
   ]
  },
  {
   "cell_type": "code",
   "execution_count": null,
   "metadata": {},
   "outputs": [],
   "source": [
    "print(listaRegular)"
   ]
  },
  {
   "cell_type": "code",
   "execution_count": null,
   "metadata": {},
   "outputs": [],
   "source": [
    "print(listaPremium)"
   ]
  },
  {
   "cell_type": "code",
   "execution_count": null,
   "metadata": {},
   "outputs": [],
   "source": [
    "print(listaDiesel)"
   ]
  },
  {
   "cell_type": "markdown",
   "metadata": {},
   "source": [
    " "
   ]
  },
  {
   "cell_type": "markdown",
   "metadata": {},
   "source": [
    "## Volumen Total de gasolina vendido por estación separada por grado de gasolina"
   ]
  },
  {
   "cell_type": "code",
   "execution_count": null,
   "metadata": {},
   "outputs": [],
   "source": [
    "# grafica utilizando plotly (stack bar)\n",
    "fig = go.Figure(data=[\n",
    "    go.Bar(name='Gasolina Regular', x=listaNombres, y=listaRegular),\n",
    "    go.Bar(name='Gasolina Premium', x=listaNombres, y=listaPremium),\n",
    "    go.Bar(name='Diesel', x=listaNombres, y=listaDiesel)\n",
    "])\n",
    "\n",
    "fig.update_layout(barmode='stack')\n",
    "fig.show()"
   ]
  },
  {
   "cell_type": "markdown",
   "metadata": {},
   "source": []
  },
  {
   "cell_type": "markdown",
   "metadata": {},
   "source": [
    "### Explicación: \n",
    "\n",
    "Podemos observar que los siguientes datos presentan el volumen total de gasolina vendido por estación. Algo muy interesante es que la mayoría de los consumidores prefieren hacer uso del combustible tipo REGULAR. Esto se debe a que el costo de dicho combustible es menor que el combustible tipo PREMIUM.\n",
    "\n",
    "Otro análisis importante es que la estación: Read Oak es la que más combustible vende de todas las estaciones analizadas. Esto podría deberse a la localidad que este tiene o al flujo de personas que transitan en la zona donde se encuentra dicha estación, esto no se puede determinar porque no tenemos los suficientes datos para analizarlo. "
   ]
  },
  {
   "cell_type": "markdown",
   "metadata": {},
   "source": [
    "## Parte 6\n"
   ]
  },
  {
   "cell_type": "markdown",
   "metadata": {},
   "source": [
    "6. Hay algo más que pueda determinar sobre los datos?"
   ]
  },
  {
   "cell_type": "code",
   "execution_count": null,
   "metadata": {},
   "outputs": [],
   "source": [
    "listaIDS = []\n",
    "with open('FuelSalesDataSample.csv', 'r') as csvfile:\n",
    "    data = csv.reader(csvfile, delimiter=',', quotechar='|')\n",
    "    \n",
    "    for row in data:\n",
    "        if row[0] != 'Date' and row[0] != '':\n",
    "            if row[3] not in listaIDS:           \n",
    "                print(\"id:\", row[3], \"nombre:\", row[4])\n",
    "                listaIDS.append(row[3])"
   ]
  },
  {
   "cell_type": "code",
   "execution_count": null,
   "metadata": {},
   "outputs": [],
   "source": [
    "dia = input(\"Elija una fecha -> \")\n",
    "idEstacion = input(\"Seleccione el ID de una estacion -> \")\n",
    "grado = input(\"Elija el grado de combustible *REGULAR* , *PREMIUM* o *DIESEL* -> \")\n",
    "\n",
    "diccionarioDia = {}\n",
    "listaHora = []\n",
    "listaVentas = []\n",
    "\n",
    "with open('FuelSalesDataSample.csv', 'r') as csvfile:\n",
    "    data = csv.reader(csvfile, delimiter=',', quotechar='|')\n",
    "    \n",
    "    for row in data:\n",
    "        if row[0] == dia and row[5]==grado:\n",
    "            if row[2] not in listaHora:\n",
    "                diccionarioDia[row[2]] = [row[2], 0 ]\n",
    "                listaHora.append(row[2])\n",
    "                \n",
    "            else:\n",
    "                totalHora = diccionarioDia[row[2]][1]\n",
    "                totalSale = row[11]\n",
    "                diccionarioDia[row[2]][1] = totalHora + round((float(totalSale[1:len(totalSale)])), 2)\n",
    "                \n",
    "for x in diccionarioDia:\n",
    "    listaVentas.append(round(diccionarioDia[x][1], 2))\n",
    "    \n",
    "data5 = go.Scatter(x=listaHora, y=listaVentas, name='Total Ventas',\n",
    "                         marker=dict(color=\"crimson\", size=12),mode=\"markers\")\n",
    "\n",
    "fig = go.Figure(data5)\n",
    "\n",
    "fig.update_layout()\n",
    "fig.show()"
   ]
  },
  {
   "cell_type": "code",
   "execution_count": null,
   "metadata": {},
   "outputs": [],
   "source": []
  }
 ],
 "metadata": {
  "kernelspec": {
   "display_name": "Python 3",
   "language": "python",
   "name": "python3"
  },
  "language_info": {
   "codemirror_mode": {
    "name": "ipython",
    "version": 3
   },
   "file_extension": ".py",
   "mimetype": "text/x-python",
   "name": "python",
   "nbconvert_exporter": "python",
   "pygments_lexer": "ipython3",
   "version": "3.7.2"
  }
 },
 "nbformat": 4,
 "nbformat_minor": 2
}
