{
 "cells": [
  {
   "cell_type": "markdown",
   "metadata": {},
   "source": [
    "### Instalamos librerias si no estan en nuestro equipo"
   ]
  },
  {
   "cell_type": "code",
   "execution_count": 23,
   "metadata": {},
   "outputs": [
    {
     "name": "stdout",
     "output_type": "stream",
     "text": [
      "Requirement already satisfied: pandas in c:\\programdata\\anaconda3\\lib\\site-packages (0.25.1)\n",
      "Requirement already satisfied: numpy>=1.13.3 in c:\\programdata\\anaconda3\\lib\\site-packages (from pandas) (1.16.5)\n",
      "Requirement already satisfied: python-dateutil>=2.6.1 in c:\\programdata\\anaconda3\\lib\\site-packages (from pandas) (2.8.0)\n",
      "Requirement already satisfied: pytz>=2017.2 in c:\\programdata\\anaconda3\\lib\\site-packages (from pandas) (2019.3)\n",
      "Requirement already satisfied: six>=1.5 in c:\\programdata\\anaconda3\\lib\\site-packages (from python-dateutil>=2.6.1->pandas) (1.12.0)\n",
      "Requirement already satisfied: numpy in c:\\programdata\\anaconda3\\lib\\site-packages (1.16.5)\n",
      "Requirement already satisfied: seaborn in c:\\programdata\\anaconda3\\lib\\site-packages (0.9.0)\n",
      "Requirement already satisfied: matplotlib>=1.4.3 in c:\\programdata\\anaconda3\\lib\\site-packages (from seaborn) (3.1.1)\n",
      "Requirement already satisfied: numpy>=1.9.3 in c:\\programdata\\anaconda3\\lib\\site-packages (from seaborn) (1.16.5)\n",
      "Requirement already satisfied: pandas>=0.15.2 in c:\\programdata\\anaconda3\\lib\\site-packages (from seaborn) (0.25.1)\n",
      "Requirement already satisfied: scipy>=0.14.0 in c:\\programdata\\anaconda3\\lib\\site-packages (from seaborn) (1.3.1)\n",
      "Requirement already satisfied: cycler>=0.10 in c:\\programdata\\anaconda3\\lib\\site-packages (from matplotlib>=1.4.3->seaborn) (0.10.0)\n",
      "Requirement already satisfied: kiwisolver>=1.0.1 in c:\\programdata\\anaconda3\\lib\\site-packages (from matplotlib>=1.4.3->seaborn) (1.1.0)\n",
      "Requirement already satisfied: pyparsing!=2.0.4,!=2.1.2,!=2.1.6,>=2.0.1 in c:\\programdata\\anaconda3\\lib\\site-packages (from matplotlib>=1.4.3->seaborn) (2.4.2)\n",
      "Requirement already satisfied: python-dateutil>=2.1 in c:\\programdata\\anaconda3\\lib\\site-packages (from matplotlib>=1.4.3->seaborn) (2.8.0)\n",
      "Requirement already satisfied: pytz>=2017.2 in c:\\programdata\\anaconda3\\lib\\site-packages (from pandas>=0.15.2->seaborn) (2019.3)\n",
      "Requirement already satisfied: six in c:\\programdata\\anaconda3\\lib\\site-packages (from cycler>=0.10->matplotlib>=1.4.3->seaborn) (1.12.0)\n",
      "Requirement already satisfied: setuptools in c:\\programdata\\anaconda3\\lib\\site-packages (from kiwisolver>=1.0.1->matplotlib>=1.4.3->seaborn) (41.4.0)\n",
      "Requirement already satisfied: matplotlib in c:\\programdata\\anaconda3\\lib\\site-packages (3.1.1)\n",
      "Requirement already satisfied: cycler>=0.10 in c:\\programdata\\anaconda3\\lib\\site-packages (from matplotlib) (0.10.0)\n",
      "Requirement already satisfied: kiwisolver>=1.0.1 in c:\\programdata\\anaconda3\\lib\\site-packages (from matplotlib) (1.1.0)\n",
      "Requirement already satisfied: pyparsing!=2.0.4,!=2.1.2,!=2.1.6,>=2.0.1 in c:\\programdata\\anaconda3\\lib\\site-packages (from matplotlib) (2.4.2)\n",
      "Requirement already satisfied: python-dateutil>=2.1 in c:\\programdata\\anaconda3\\lib\\site-packages (from matplotlib) (2.8.0)\n",
      "Requirement already satisfied: numpy>=1.11 in c:\\programdata\\anaconda3\\lib\\site-packages (from matplotlib) (1.16.5)\n",
      "Requirement already satisfied: six in c:\\programdata\\anaconda3\\lib\\site-packages (from cycler>=0.10->matplotlib) (1.12.0)\n",
      "Requirement already satisfied: setuptools in c:\\programdata\\anaconda3\\lib\\site-packages (from kiwisolver>=1.0.1->matplotlib) (41.4.0)\n"
     ]
    }
   ],
   "source": [
    "!pip install pandas\n",
    "!pip install plotly"
   ]
  },
  {
   "cell_type": "markdown",
   "metadata": {},
   "source": [
    "### Importando librerias a utilizar"
   ]
  },
  {
   "cell_type": "code",
   "execution_count": 27,
   "metadata": {},
   "outputs": [],
   "source": [
    "import numpy as np\n",
    "import pandas as pd\n",
    "import matplotlib.pyplot as plt"
   ]
  },
  {
   "cell_type": "markdown",
   "metadata": {},
   "source": [
    "### Configuramos ruta del arvhico de FuelSalesDataSample.csv"
   ]
  },
  {
   "cell_type": "code",
   "execution_count": 28,
   "metadata": {},
   "outputs": [],
   "source": [
    "FILE = \"FuelSalesDataSample.csv\""
   ]
  },
  {
   "cell_type": "markdown",
   "metadata": {},
   "source": [
    "### Cargamos Archivo a DataFrame"
   ]
  },
  {
   "cell_type": "code",
   "execution_count": 29,
   "metadata": {},
   "outputs": [],
   "source": [
    "data = pd.read_csv(FILE)"
   ]
  },
  {
   "cell_type": "markdown",
   "metadata": {},
   "source": [
    "### Convertimos las collumnas UnitPrice y TotalSale de tipo money a flotante"
   ]
  },
  {
   "cell_type": "code",
   "execution_count": 30,
   "metadata": {},
   "outputs": [],
   "source": [
    "data['UnitPrice'] = data['UnitPrice'].replace('[\\$,]', '', regex=True).astype(float)"
   ]
  },
  {
   "cell_type": "code",
   "execution_count": 31,
   "metadata": {},
   "outputs": [],
   "source": [
    "data['TotalSale'] = data['TotalSale'].replace('[\\$,]', '', regex=True).astype(float)"
   ]
  },
  {
   "cell_type": "code",
   "execution_count": 32,
   "metadata": {},
   "outputs": [
    {
     "data": {
      "text/html": [
       "<div>\n",
       "<style scoped>\n",
       "    .dataframe tbody tr th:only-of-type {\n",
       "        vertical-align: middle;\n",
       "    }\n",
       "\n",
       "    .dataframe tbody tr th {\n",
       "        vertical-align: top;\n",
       "    }\n",
       "\n",
       "    .dataframe thead th {\n",
       "        text-align: right;\n",
       "    }\n",
       "</style>\n",
       "<table border=\"1\" class=\"dataframe\">\n",
       "  <thead>\n",
       "    <tr style=\"text-align: right;\">\n",
       "      <th></th>\n",
       "      <th>Date</th>\n",
       "      <th>Weekday</th>\n",
       "      <th>Hour</th>\n",
       "      <th>SiteID</th>\n",
       "      <th>SiteName</th>\n",
       "      <th>Grade</th>\n",
       "      <th>Pump</th>\n",
       "      <th>ServiceType</th>\n",
       "      <th>VolumeSold</th>\n",
       "      <th>PaymentType</th>\n",
       "      <th>UnitPrice</th>\n",
       "      <th>TotalSale</th>\n",
       "    </tr>\n",
       "  </thead>\n",
       "  <tbody>\n",
       "    <tr>\n",
       "      <td>0</td>\n",
       "      <td>1/1/2017</td>\n",
       "      <td>7</td>\n",
       "      <td>0</td>\n",
       "      <td>6601</td>\n",
       "      <td>Falls Church</td>\n",
       "      <td>REGULAR</td>\n",
       "      <td>1</td>\n",
       "      <td>FULL</td>\n",
       "      <td>7.40</td>\n",
       "      <td>CASH</td>\n",
       "      <td>2.78</td>\n",
       "      <td>20.57</td>\n",
       "    </tr>\n",
       "    <tr>\n",
       "      <td>1</td>\n",
       "      <td>1/1/2017</td>\n",
       "      <td>7</td>\n",
       "      <td>0</td>\n",
       "      <td>6601</td>\n",
       "      <td>Falls Church</td>\n",
       "      <td>REGULAR</td>\n",
       "      <td>3</td>\n",
       "      <td>FULL</td>\n",
       "      <td>11.03</td>\n",
       "      <td>CASH</td>\n",
       "      <td>2.78</td>\n",
       "      <td>30.66</td>\n",
       "    </tr>\n",
       "    <tr>\n",
       "      <td>2</td>\n",
       "      <td>1/1/2017</td>\n",
       "      <td>7</td>\n",
       "      <td>0</td>\n",
       "      <td>6601</td>\n",
       "      <td>Falls Church</td>\n",
       "      <td>REGULAR</td>\n",
       "      <td>5</td>\n",
       "      <td>FULL</td>\n",
       "      <td>11.70</td>\n",
       "      <td>CREDIT CARD</td>\n",
       "      <td>2.78</td>\n",
       "      <td>32.53</td>\n",
       "    </tr>\n",
       "    <tr>\n",
       "      <td>3</td>\n",
       "      <td>1/1/2017</td>\n",
       "      <td>7</td>\n",
       "      <td>0</td>\n",
       "      <td>6601</td>\n",
       "      <td>Falls Church</td>\n",
       "      <td>REGULAR</td>\n",
       "      <td>7</td>\n",
       "      <td>SELF</td>\n",
       "      <td>15.68</td>\n",
       "      <td>CASH</td>\n",
       "      <td>2.73</td>\n",
       "      <td>42.81</td>\n",
       "    </tr>\n",
       "    <tr>\n",
       "      <td>4</td>\n",
       "      <td>1/1/2017</td>\n",
       "      <td>7</td>\n",
       "      <td>0</td>\n",
       "      <td>6601</td>\n",
       "      <td>Falls Church</td>\n",
       "      <td>DIESEL</td>\n",
       "      <td>7</td>\n",
       "      <td>SELF</td>\n",
       "      <td>4.51</td>\n",
       "      <td>CREDIT CARD</td>\n",
       "      <td>2.87</td>\n",
       "      <td>12.94</td>\n",
       "    </tr>\n",
       "    <tr>\n",
       "      <td>...</td>\n",
       "      <td>...</td>\n",
       "      <td>...</td>\n",
       "      <td>...</td>\n",
       "      <td>...</td>\n",
       "      <td>...</td>\n",
       "      <td>...</td>\n",
       "      <td>...</td>\n",
       "      <td>...</td>\n",
       "      <td>...</td>\n",
       "      <td>...</td>\n",
       "      <td>...</td>\n",
       "      <td>...</td>\n",
       "    </tr>\n",
       "    <tr>\n",
       "      <td>89537</td>\n",
       "      <td>1/15/2017</td>\n",
       "      <td>7</td>\n",
       "      <td>15</td>\n",
       "      <td>6653</td>\n",
       "      <td>Brussels Avenue</td>\n",
       "      <td>REGULAR</td>\n",
       "      <td>5</td>\n",
       "      <td>SELF</td>\n",
       "      <td>9.42</td>\n",
       "      <td>CREDIT CUSTOMER</td>\n",
       "      <td>2.75</td>\n",
       "      <td>25.91</td>\n",
       "    </tr>\n",
       "    <tr>\n",
       "      <td>89538</td>\n",
       "      <td>1/15/2017</td>\n",
       "      <td>7</td>\n",
       "      <td>16</td>\n",
       "      <td>6653</td>\n",
       "      <td>Brussels Avenue</td>\n",
       "      <td>REGULAR</td>\n",
       "      <td>5</td>\n",
       "      <td>SELF</td>\n",
       "      <td>10.12</td>\n",
       "      <td>CREDIT CARD</td>\n",
       "      <td>2.75</td>\n",
       "      <td>27.83</td>\n",
       "    </tr>\n",
       "    <tr>\n",
       "      <td>89539</td>\n",
       "      <td>1/15/2017</td>\n",
       "      <td>7</td>\n",
       "      <td>17</td>\n",
       "      <td>6653</td>\n",
       "      <td>Brussels Avenue</td>\n",
       "      <td>REGULAR</td>\n",
       "      <td>5</td>\n",
       "      <td>SELF</td>\n",
       "      <td>8.89</td>\n",
       "      <td>CREDIT CARD</td>\n",
       "      <td>2.75</td>\n",
       "      <td>24.45</td>\n",
       "    </tr>\n",
       "    <tr>\n",
       "      <td>89540</td>\n",
       "      <td>1/15/2017</td>\n",
       "      <td>7</td>\n",
       "      <td>18</td>\n",
       "      <td>6653</td>\n",
       "      <td>Brussels Avenue</td>\n",
       "      <td>REGULAR</td>\n",
       "      <td>5</td>\n",
       "      <td>SELF</td>\n",
       "      <td>7.21</td>\n",
       "      <td>CREDIT CARD</td>\n",
       "      <td>2.75</td>\n",
       "      <td>19.83</td>\n",
       "    </tr>\n",
       "    <tr>\n",
       "      <td>89541</td>\n",
       "      <td>1/15/2017</td>\n",
       "      <td>7</td>\n",
       "      <td>19</td>\n",
       "      <td>6653</td>\n",
       "      <td>Brussels Avenue</td>\n",
       "      <td>REGULAR</td>\n",
       "      <td>5</td>\n",
       "      <td>SELF</td>\n",
       "      <td>5.78</td>\n",
       "      <td>CREDIT CARD</td>\n",
       "      <td>2.75</td>\n",
       "      <td>15.90</td>\n",
       "    </tr>\n",
       "  </tbody>\n",
       "</table>\n",
       "<p>89542 rows × 12 columns</p>\n",
       "</div>"
      ],
      "text/plain": [
       "            Date  Weekday  Hour  SiteID         SiteName    Grade  Pump  \\\n",
       "0       1/1/2017        7     0    6601     Falls Church  REGULAR     1   \n",
       "1       1/1/2017        7     0    6601     Falls Church  REGULAR     3   \n",
       "2       1/1/2017        7     0    6601     Falls Church  REGULAR     5   \n",
       "3       1/1/2017        7     0    6601     Falls Church  REGULAR     7   \n",
       "4       1/1/2017        7     0    6601     Falls Church   DIESEL     7   \n",
       "...          ...      ...   ...     ...              ...      ...   ...   \n",
       "89537  1/15/2017        7    15    6653  Brussels Avenue  REGULAR     5   \n",
       "89538  1/15/2017        7    16    6653  Brussels Avenue  REGULAR     5   \n",
       "89539  1/15/2017        7    17    6653  Brussels Avenue  REGULAR     5   \n",
       "89540  1/15/2017        7    18    6653  Brussels Avenue  REGULAR     5   \n",
       "89541  1/15/2017        7    19    6653  Brussels Avenue  REGULAR     5   \n",
       "\n",
       "      ServiceType  VolumeSold      PaymentType  UnitPrice  TotalSale  \n",
       "0            FULL        7.40             CASH       2.78      20.57  \n",
       "1            FULL       11.03             CASH       2.78      30.66  \n",
       "2            FULL       11.70      CREDIT CARD       2.78      32.53  \n",
       "3            SELF       15.68             CASH       2.73      42.81  \n",
       "4            SELF        4.51      CREDIT CARD       2.87      12.94  \n",
       "...           ...         ...              ...        ...        ...  \n",
       "89537        SELF        9.42  CREDIT CUSTOMER       2.75      25.91  \n",
       "89538        SELF       10.12      CREDIT CARD       2.75      27.83  \n",
       "89539        SELF        8.89      CREDIT CARD       2.75      24.45  \n",
       "89540        SELF        7.21      CREDIT CARD       2.75      19.83  \n",
       "89541        SELF        5.78      CREDIT CARD       2.75      15.90  \n",
       "\n",
       "[89542 rows x 12 columns]"
      ]
     },
     "execution_count": 32,
     "metadata": {},
     "output_type": "execute_result"
    }
   ],
   "source": [
    "data"
   ]
  },
  {
   "cell_type": "markdown",
   "metadata": {},
   "source": [
    "### Filtramos los datos según el tipo de combustible que nos interesa saber (REGULAR)"
   ]
  },
  {
   "cell_type": "code",
   "execution_count": 33,
   "metadata": {},
   "outputs": [],
   "source": [
    "data_regular = data[data.Grade.eq(\"REGULAR\")]"
   ]
  },
  {
   "cell_type": "markdown",
   "metadata": {},
   "source": [
    "### Agrupamos los datos filtrados por el nombre de la gasolinera para obtener los totales"
   ]
  },
  {
   "cell_type": "code",
   "execution_count": 34,
   "metadata": {},
   "outputs": [],
   "source": [
    "data_regular = data_regular.groupby(['SiteName'])"
   ]
  },
  {
   "cell_type": "code",
   "execution_count": 35,
   "metadata": {},
   "outputs": [],
   "source": [
    "data_regular = data_regular['UnitPrice'].mean().to_frame(name = 'UnitPrice').reset_index()"
   ]
  },
  {
   "cell_type": "markdown",
   "metadata": {},
   "source": [
    "### Se realiza gráfica del promedio del precio combustible por estación "
   ]
  },
  {
   "cell_type": "code",
   "execution_count": 60,
   "metadata": {},
   "outputs": [
    {
     "data": {
      "image/png": "[encoded data removed]",
      "text/plain": [
       "<Figure size 864x360 with 1 Axes>"
      ]
     },
     "metadata": {
      "needs_background": "light"
     },
     "output_type": "display_data"
    }
   ],
   "source": [
    "ax = data_regular.plot(kind='bar',figsize=(12, 5))\n",
    "ax.set_title('Precio Promedio por Estación')\n",
    "ax.set_xlabel('Estación')\n",
    "ax.set_ylabel('Monto ($)')\n",
    "ax.set_xticklabels(data_regular['SiteName'].tolist())\n",
    "\n",
    "rects = ax.patches"
   ]
  },
  {
   "cell_type": "code",
   "execution_count": null,
   "metadata": {},
   "outputs": [],
   "source": []
  }
 ],
 "metadata": {
  "kernelspec": {
   "display_name": "Python 3",
   "language": "python",
   "name": "python3"
  },
  "language_info": {
   "codemirror_mode": {
    "name": "ipython",
    "version": 3
   },
   "file_extension": ".py",
   "mimetype": "text/x-python",
   "name": "python",
   "nbconvert_exporter": "python",
   "pygments_lexer": "ipython3",
   "version": "3.7.4"
  }
 },
 "nbformat": 4,
 "nbformat_minor": 4
}
